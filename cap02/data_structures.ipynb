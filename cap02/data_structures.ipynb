{
 "cells": [
  {
   "attachments": {},
   "cell_type": "markdown",
   "metadata": {},
   "source": [
    "# Estrutura de Dados"
   ]
  },
  {
   "attachments": {},
   "cell_type": "markdown",
   "metadata": {},
   "source": [
    "LISTAS: Sequência de itens separados por vírgula, e que estão entre colchetes"
   ]
  },
  {
   "cell_type": "code",
   "execution_count": 4,
   "metadata": {},
   "outputs": [],
   "source": [
    "#Lista vazia\n",
    "lista = []\n",
    "\n",
    "#Lista numérica\n",
    "lista_numerica = [2, 6, 7, 9, 3]\n",
    "\n",
    "#Lista mista\n",
    "lista_mista = [13, 'lista', [8, 6, 3], True, lista_numerica]"
   ]
  },
  {
   "cell_type": "code",
   "execution_count": 5,
   "metadata": {},
   "outputs": [
    {
     "data": {
      "text/plain": [
       "5"
      ]
     },
     "execution_count": 5,
     "metadata": {},
     "output_type": "execute_result"
    }
   ],
   "source": [
    "len(lista_mista)"
   ]
  },
  {
   "attachments": {},
   "cell_type": "markdown",
   "metadata": {},
   "source": [
    "TUPLAS: uma vez declarada, ela não pode ser modificada, e nem utilizar o .append()"
   ]
  },
  {
   "cell_type": "code",
   "execution_count": 6,
   "metadata": {},
   "outputs": [],
   "source": [
    "tupla = ()"
   ]
  },
  {
   "cell_type": "code",
   "execution_count": 7,
   "metadata": {},
   "outputs": [],
   "source": [
    "tupla_numerica = (1, 5, 4, 8, 9)"
   ]
  },
  {
   "attachments": {},
   "cell_type": "markdown",
   "metadata": {},
   "source": [
    "DICIONÁRIOS: sequencia de itens no modelo chave-valor"
   ]
  },
  {
   "cell_type": "code",
   "execution_count": 12,
   "metadata": {},
   "outputs": [],
   "source": [
    "dicionario = { \"gata\": \"Felino domesticado\", \"legenda\": 81, \"cidade\" : \"Recife\", \"residente\": True}"
   ]
  },
  {
   "cell_type": "code",
   "execution_count": 13,
   "metadata": {},
   "outputs": [
    {
     "name": "stdout",
     "output_type": "stream",
     "text": [
      "{'gata': 'Felino domesticado', 'legenda': 81, 'cidade': 'Recife', 'residente': True}\n"
     ]
    }
   ],
   "source": [
    "print(dicionario)"
   ]
  },
  {
   "cell_type": "code",
   "execution_count": 14,
   "metadata": {},
   "outputs": [
    {
     "data": {
      "text/plain": [
       "'Felino domesticado'"
      ]
     },
     "execution_count": 14,
     "metadata": {},
     "output_type": "execute_result"
    }
   ],
   "source": [
    "dicionario['gata']"
   ]
  },
  {
   "attachments": {},
   "cell_type": "markdown",
   "metadata": {},
   "source": [
    "CONJUNTOS: ignora números repetidos"
   ]
  },
  {
   "cell_type": "code",
   "execution_count": 9,
   "metadata": {},
   "outputs": [],
   "source": [
    "conjunto_numerico = {3, 4, 7, 6, 4}"
   ]
  },
  {
   "cell_type": "code",
   "execution_count": 10,
   "metadata": {},
   "outputs": [
    {
     "data": {
      "text/plain": [
       "4"
      ]
     },
     "execution_count": 10,
     "metadata": {},
     "output_type": "execute_result"
    }
   ],
   "source": [
    "len(conjunto_numerico)"
   ]
  },
  {
   "cell_type": "code",
   "execution_count": 11,
   "metadata": {},
   "outputs": [
    {
     "name": "stdout",
     "output_type": "stream",
     "text": [
      "{3, 4, 6, 7}\n"
     ]
    }
   ],
   "source": [
    "print(conjunto_numerico)"
   ]
  },
  {
   "cell_type": "code",
   "execution_count": 19,
   "metadata": {},
   "outputs": [
    {
     "name": "stdout",
     "output_type": "stream",
     "text": [
      "Numeros:  [1, 2, 5, 6, 1]\n",
      "Numeros distintos: {1, 2, 5, 6}\n"
     ]
    }
   ],
   "source": [
    "#Pode ser declarado de várias formas\n",
    "conj_teste1 = [1, 2, 5, 6, 1]\n",
    "numeros_distintos = set(conj_teste1)\n",
    "\n",
    "print(\"Numeros: \", conj_teste1)\n",
    "print(\"Numeros distintos:\", numeros_distintos)"
   ]
  },
  {
   "cell_type": "code",
   "execution_count": 22,
   "metadata": {},
   "outputs": [
    {
     "name": "stdout",
     "output_type": "stream",
     "text": [
      "Numeros:  [1, 2, 2, 5, 4, 5]\n",
      "Numeros distintos: {1, 2, 4, 5}\n"
     ]
    }
   ],
   "source": [
    "#outra forma\n",
    "numeros = [1, 2, 2, 5, 4, 5]\n",
    "num_distintos = set()      #--> 1\n",
    "for num in numeros:\n",
    "    num_distintos.add(num) # ---> 2\n",
    "\n",
    "print(\"Numeros: \", numeros)\n",
    "print(\"Numeros distintos:\", num_distintos)\n",
    "\n",
    "\n",
    "#Legenda:\n",
    "#    1 - Cria um conjunto vazio\n",
    "#    2 - Adiciona um elemento ao conjunto criado anteriormente. Se o elemento não existir no conjunto, ele é adicionado. Caso contrário, o elemento é simplesmente descartado"
   ]
  }
 ],
 "metadata": {
  "kernelspec": {
   "display_name": ".venv",
   "language": "python",
   "name": "python3"
  },
  "language_info": {
   "codemirror_mode": {
    "name": "ipython",
    "version": 3
   },
   "file_extension": ".py",
   "mimetype": "text/x-python",
   "name": "python",
   "nbconvert_exporter": "python",
   "pygments_lexer": "ipython3",
   "version": "3.9.13"
  },
  "orig_nbformat": 4
 },
 "nbformat": 4,
 "nbformat_minor": 2
}
