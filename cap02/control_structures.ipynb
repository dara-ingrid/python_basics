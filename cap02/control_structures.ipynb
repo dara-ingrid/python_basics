{
 "cells": [
  {
   "attachments": {},
   "cell_type": "markdown",
   "metadata": {},
   "source": [
    "#Estruturas de Controle"
   ]
  },
  {
   "attachments": {},
   "cell_type": "markdown",
   "metadata": {},
   "source": [
    "- Estrutura de Seleção"
   ]
  },
  {
   "attachments": {},
   "cell_type": "markdown",
   "metadata": {},
   "source": [
    "if condição:\n",
    "    faça isso\n",
    "else:\n",
    "    faça essa outra coisa"
   ]
  },
  {
   "cell_type": "code",
   "execution_count": 6,
   "metadata": {},
   "outputs": [],
   "source": [
    "a = 'internet'\n",
    "lista = ['internet', 'rede', 'wifi', 'cabeada']"
   ]
  },
  {
   "cell_type": "code",
   "execution_count": 7,
   "metadata": {},
   "outputs": [
    {
     "name": "stdout",
     "output_type": "stream",
     "text": [
      "Tem internet\n"
     ]
    }
   ],
   "source": [
    "if a in lista:\n",
    "    print('Tem internet')\n",
    "else:\n",
    "    print('Sem internet')"
   ]
  },
  {
   "attachments": {},
   "cell_type": "markdown",
   "metadata": {},
   "source": [
    "- Estrutura de Iteração"
   ]
  },
  {
   "cell_type": "code",
   "execution_count": 8,
   "metadata": {},
   "outputs": [
    {
     "name": "stdout",
     "output_type": "stream",
     "text": [
      "internet\n",
      "rede\n",
      "wifi\n",
      "cabeada\n"
     ]
    }
   ],
   "source": [
    "for palavra in lista:\n",
    "    print(palavra)"
   ]
  },
  {
   "cell_type": "code",
   "execution_count": 9,
   "metadata": {},
   "outputs": [
    {
     "name": "stdout",
     "output_type": "stream",
     "text": [
      "2 o número é menor do que 10\n",
      "3 o número é menor do que 10\n",
      "4 o número é menor do que 10\n",
      "5 o número é menor do que 10\n",
      "6 o número é menor do que 10\n",
      "7 o número é menor do que 10\n",
      "8 o número é menor do que 10\n",
      "9 o número é menor do que 10\n"
     ]
    }
   ],
   "source": [
    "b = 2\n",
    "\n",
    "while b < 10:\n",
    "    print(b, 'o número é menor do que 10')\n",
    "    b += 1"
   ]
  }
 ],
 "metadata": {
  "kernelspec": {
   "display_name": ".venv",
   "language": "python",
   "name": "python3"
  },
  "language_info": {
   "codemirror_mode": {
    "name": "ipython",
    "version": 3
   },
   "file_extension": ".py",
   "mimetype": "text/x-python",
   "name": "python",
   "nbconvert_exporter": "python",
   "pygments_lexer": "ipython3",
   "version": "3.9.13"
  },
  "orig_nbformat": 4
 },
 "nbformat": 4,
 "nbformat_minor": 2
}
