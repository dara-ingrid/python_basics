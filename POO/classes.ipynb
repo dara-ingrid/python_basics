{
 "cells": [
  {
   "attachments": {},
   "cell_type": "markdown",
   "metadata": {},
   "source": [
    "# Classes\n",
    "\n",
    "-  A convenção para evitar a alteração é adicionar um underline antes do nome da variável, mas isso não impede ninguém de mexer com ela. \n",
    "- O underline é apenas uma convenção para sinalizar que a variável não deve ser alterada. \n",
    "- Ele também sinaliza que aquela variável é privada, ou seja, não deve ser exposta e nem modificada diretamente. \n",
    "\n",
    "Em Python, por padrão, todos os elementos de uma classe são públicos. Estabelecemos como privado apenas as variáveis que podem comprometer o objeto. Ao escrever uma classe, você precisa pensar em como ela será utilizada."
   ]
  },
  {
   "cell_type": "code",
   "execution_count": 10,
   "metadata": {},
   "outputs": [],
   "source": [
    "class gata:\n",
    "    _cor = 'preta'\n",
    "    #Construtor\n",
    "    def __init__(self, nome = 'Nísia') :\n",
    "        self.patas = 4\n",
    "        self.nome = nome"
   ]
  },
  {
   "cell_type": "code",
   "execution_count": 2,
   "metadata": {},
   "outputs": [],
   "source": [
    "gabriela = gata('Gabriela')"
   ]
  },
  {
   "cell_type": "code",
   "execution_count": 7,
   "metadata": {},
   "outputs": [
    {
     "data": {
      "text/plain": [
       "'laranja'"
      ]
     },
     "execution_count": 7,
     "metadata": {},
     "output_type": "execute_result"
    }
   ],
   "source": [
    "gabriela.cor"
   ]
  },
  {
   "cell_type": "code",
   "execution_count": 5,
   "metadata": {},
   "outputs": [
    {
     "data": {
      "text/plain": [
       "'laranja'"
      ]
     },
     "execution_count": 5,
     "metadata": {},
     "output_type": "execute_result"
    }
   ],
   "source": [
    "#Alterar a cor da gata\n",
    "\n",
    "gabriela.cor = 'laranja'\n",
    "\n",
    "gabriela.cor"
   ]
  },
  {
   "cell_type": "code",
   "execution_count": 9,
   "metadata": {},
   "outputs": [
    {
     "data": {
      "text/plain": [
       "'preta'"
      ]
     },
     "execution_count": 9,
     "metadata": {},
     "output_type": "execute_result"
    }
   ],
   "source": [
    "# Atributo da instância\n",
    "\n",
    "gata.cor"
   ]
  },
  {
   "cell_type": "code",
   "execution_count": null,
   "metadata": {},
   "outputs": [],
   "source": []
  }
 ],
 "metadata": {
  "kernelspec": {
   "display_name": ".venv",
   "language": "python",
   "name": "python3"
  },
  "language_info": {
   "codemirror_mode": {
    "name": "ipython",
    "version": 3
   },
   "file_extension": ".py",
   "mimetype": "text/x-python",
   "name": "python",
   "nbconvert_exporter": "python",
   "pygments_lexer": "ipython3",
   "version": "3.9.13"
  },
  "orig_nbformat": 4
 },
 "nbformat": 4,
 "nbformat_minor": 2
}
