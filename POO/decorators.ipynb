{
 "cells": [
  {
   "attachments": {},
   "cell_type": "markdown",
   "metadata": {},
   "source": [
    "# Decoradores\n",
    "\n",
    "Decoradores, nada mais é do que uma função que recebe como argumento uma outra função e tem como objetivo alterar o comportamento da função recebida, sem precisar reescrever tal função."
   ]
  },
  {
   "cell_type": "code",
   "execution_count": 8,
   "metadata": {},
   "outputs": [],
   "source": [
    "import math\n",
    "\n",
    "def soma():\n",
    "    return 'Esta é uma função de soma'\n",
    "\n",
    "def operacaoAritmetica(funcao):\n",
    "    return funcao()"
   ]
  },
  {
   "cell_type": "code",
   "execution_count": 9,
   "metadata": {},
   "outputs": [
    {
     "data": {
      "text/plain": [
       "'Esta é uma função de soma'"
      ]
     },
     "execution_count": 9,
     "metadata": {},
     "output_type": "execute_result"
    }
   ],
   "source": [
    "funcao_soma = soma()\n",
    "funcao_soma"
   ]
  },
  {
   "cell_type": "code",
   "execution_count": 10,
   "metadata": {},
   "outputs": [
    {
     "data": {
      "text/plain": [
       "'Esta é uma função de soma'"
      ]
     },
     "execution_count": 10,
     "metadata": {},
     "output_type": "execute_result"
    }
   ],
   "source": [
    "#Passar uma função com argumento de outra\n",
    "\n",
    "operacaoAritmetica(soma)"
   ]
  },
  {
   "attachments": {},
   "cell_type": "markdown",
   "metadata": {},
   "source": [
    "- outro exemplo\n",
    "\n",
    " Para modificar o comportamento da função operação aritmética, usamos decoradores, que é @ + o nome da função que queremos modificar, seguido pela função que modificará o comportamento dela. Nesse caso, estamos definindo a função soma para modificar o comportamento da função operação aritmética."
   ]
  },
  {
   "cell_type": "code",
   "execution_count": 14,
   "metadata": {},
   "outputs": [
    {
     "name": "stdout",
     "output_type": "stream",
     "text": [
      "Antes da operação aritmética\n"
     ]
    },
    {
     "data": {
      "text/plain": [
       "16"
      ]
     },
     "execution_count": 14,
     "metadata": {},
     "output_type": "execute_result"
    }
   ],
   "source": [
    "def operacaoAritmetica(funcao):\n",
    "    def wrapper(*args):\n",
    "        print(f'Antes da operação aritmética')\n",
    "        operacao = funcao(*args)\n",
    "        return operacao\n",
    "    return wrapper\n",
    "\n",
    "\n",
    "@operacaoAritmetica    #Decorador\n",
    "def soma(*args):\n",
    "    somatorio = sum(args)\n",
    "    return somatorio\n",
    "\n",
    "\n",
    "soma(2, 3, 5, 6)"
   ]
  }
 ],
 "metadata": {
  "kernelspec": {
   "display_name": ".venv",
   "language": "python",
   "name": "python3"
  },
  "language_info": {
   "codemirror_mode": {
    "name": "ipython",
    "version": 3
   },
   "file_extension": ".py",
   "mimetype": "text/x-python",
   "name": "python",
   "nbconvert_exporter": "python",
   "pygments_lexer": "ipython3",
   "version": "3.9.13"
  },
  "orig_nbformat": 4
 },
 "nbformat": 4,
 "nbformat_minor": 2
}
