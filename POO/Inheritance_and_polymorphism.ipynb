{
 "cells": [
  {
   "attachments": {},
   "cell_type": "markdown",
   "metadata": {},
   "source": [
    "# Herança e Polimorfismo"
   ]
  },
  {
   "attachments": {},
   "cell_type": "markdown",
   "metadata": {},
   "source": [
    "-  Polimorfismo é a capacidade que uma subclasse tem de ter métodos com o mesmo nome da sua superclasse e o programa saber qual o método exato a ser executado. Ou seja, o objeto tem a capacidade de assumir diferentes formas. \n",
    "- Herança e polimorfismo são conceitos muito elegantes e poderosos para o desenvolvimento de projetos complexos."
   ]
  },
  {
   "cell_type": "code",
   "execution_count": 19,
   "metadata": {},
   "outputs": [],
   "source": [
    "class Gata:\n",
    "\n",
    "    def __init__(self, **kwargs):\n",
    "        self._patas = kwargs['patas']\n",
    "        self._nome = kwargs['nome'] if 'nome' in kwargs else 'nisia'\n",
    "        self._cor = kwargs['cor']\n",
    "        self._comprimento_pelagem = kwargs['comprimento_pelagem']\n",
    "\n",
    "\n",
    "    def getNome(self):\n",
    "        return self._nome\n",
    "    \n",
    "    def getIdade(self):\n",
    "        return self._idade\n",
    "    \n",
    "    def getCor(self):\n",
    "        return self._cor\n",
    "    \n",
    "    def setCor(self,nova_cor = 'cinza'):\n",
    "        if nova_cor:\n",
    "            self._cor = nova_cor\n",
    "        return self._cor\n",
    "    \n",
    "    def som(self):\n",
    "        return f'{self._nome} é uma gata que mia'\n",
    "\n"
   ]
  },
  {
   "cell_type": "code",
   "execution_count": 20,
   "metadata": {},
   "outputs": [],
   "source": [
    "class Siames(Gata):\n",
    "    def __init__(self, **kwargs):\n",
    "        super().__init__(**kwargs)\n",
    "        self._idade = kwargs['idade'] if 'idade' in kwargs else 0\n",
    "\n",
    "    def som(self):\n",
    "        return f'Gatos siameses miam pouco!'"
   ]
  },
  {
   "cell_type": "code",
   "execution_count": 21,
   "metadata": {},
   "outputs": [],
   "source": [
    "nisia = Gata(patas = 4, cor = 'laranja', comprimento_pelagem = 'medio')\n",
    "laura = Siames(patas = 4, cor = 'preta', comprimento_pelagem = 'longa', nome = 'Laura')"
   ]
  },
  {
   "cell_type": "code",
   "execution_count": 22,
   "metadata": {},
   "outputs": [
    {
     "data": {
      "text/plain": [
       "'nisia'"
      ]
     },
     "execution_count": 22,
     "metadata": {},
     "output_type": "execute_result"
    }
   ],
   "source": [
    "nisia.getNome()"
   ]
  },
  {
   "cell_type": "code",
   "execution_count": 23,
   "metadata": {},
   "outputs": [
    {
     "data": {
      "text/plain": [
       "'Laura'"
      ]
     },
     "execution_count": 23,
     "metadata": {},
     "output_type": "execute_result"
    }
   ],
   "source": [
    "laura.getNome()"
   ]
  },
  {
   "cell_type": "code",
   "execution_count": 24,
   "metadata": {},
   "outputs": [
    {
     "ename": "AttributeError",
     "evalue": "'Gata' object has no attribute '_idade'",
     "output_type": "error",
     "traceback": [
      "\u001b[1;31m---------------------------------------------------------------------------\u001b[0m",
      "\u001b[1;31mAttributeError\u001b[0m                            Traceback (most recent call last)",
      "Cell \u001b[1;32mIn[24], line 1\u001b[0m\n\u001b[1;32m----> 1\u001b[0m nisia\u001b[39m.\u001b[39;49mgetIdade()\n\u001b[0;32m      3\u001b[0m \u001b[39m# Nísia foi instanciada com a classe Gato, então, não existe um valor padrão. Por isso que retorna um erro, um erro de atributo. \u001b[39;00m\n",
      "Cell \u001b[1;32mIn[19], line 14\u001b[0m, in \u001b[0;36mGata.getIdade\u001b[1;34m(self)\u001b[0m\n\u001b[0;32m     13\u001b[0m \u001b[39mdef\u001b[39;00m \u001b[39mgetIdade\u001b[39m(\u001b[39mself\u001b[39m):\n\u001b[1;32m---> 14\u001b[0m     \u001b[39mreturn\u001b[39;00m \u001b[39mself\u001b[39;49m\u001b[39m.\u001b[39;49m_idade\n",
      "\u001b[1;31mAttributeError\u001b[0m: 'Gata' object has no attribute '_idade'"
     ]
    }
   ],
   "source": [
    "nisia.getIdade()\n",
    "\n",
    "# Nísia foi instanciada com a classe Gato, então, não existe um valor padrão. Por isso que retorna um erro, um erro de atributo. "
   ]
  },
  {
   "cell_type": "code",
   "execution_count": null,
   "metadata": {},
   "outputs": [
    {
     "data": {
      "text/plain": [
       "0"
      ]
     },
     "execution_count": 18,
     "metadata": {},
     "output_type": "execute_result"
    }
   ],
   "source": [
    "laura.getIdade()"
   ]
  },
  {
   "cell_type": "code",
   "execution_count": 25,
   "metadata": {},
   "outputs": [
    {
     "data": {
      "text/plain": [
       "'nisia é uma gata que mia'"
      ]
     },
     "execution_count": 25,
     "metadata": {},
     "output_type": "execute_result"
    }
   ],
   "source": [
    "nisia.som()"
   ]
  },
  {
   "cell_type": "code",
   "execution_count": 26,
   "metadata": {},
   "outputs": [
    {
     "data": {
      "text/plain": [
       "'Gatos siameses miam pouco!'"
      ]
     },
     "execution_count": 26,
     "metadata": {},
     "output_type": "execute_result"
    }
   ],
   "source": [
    "laura.som()"
   ]
  }
 ],
 "metadata": {
  "kernelspec": {
   "display_name": ".venv",
   "language": "python",
   "name": "python3"
  },
  "language_info": {
   "codemirror_mode": {
    "name": "ipython",
    "version": 3
   },
   "file_extension": ".py",
   "mimetype": "text/x-python",
   "name": "python",
   "nbconvert_exporter": "python",
   "pygments_lexer": "ipython3",
   "version": "3.9.13"
  },
  "orig_nbformat": 4
 },
 "nbformat": 4,
 "nbformat_minor": 2
}
