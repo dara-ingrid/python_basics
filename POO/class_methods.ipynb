{
 "cells": [
  {
   "attachments": {},
   "cell_type": "markdown",
   "metadata": {},
   "source": [
    "# Métodos de classes\n",
    "\n",
    "- os métodos são parte de uma classe, ou seja, é parte da funcionalidade que damos a um objeto. Além disso, costumeiramente recebem um argumento \"self\", que representa uma instância da classe. \n",
    "- O argumento \"self\" permite acesso aos atributos e métodos de cada objeto instanciado dessa classe. "
   ]
  },
  {
   "cell_type": "code",
   "execution_count": 1,
   "metadata": {},
   "outputs": [],
   "source": [
    "class Gata:\n",
    "\n",
    "    def __init__(self, **kwargs):\n",
    "        self.patas = kwargs['patas']\n",
    "        self.nome = kwargs['nome'] if 'nome' in kwargs else 'Nisia'\n",
    "        self.cor = kwargs['cor']\n",
    "        self.comprimento_pelagem = kwargs['comprimento_pelagem']"
   ]
  },
  {
   "cell_type": "code",
   "execution_count": 2,
   "metadata": {},
   "outputs": [],
   "source": [
    "def getCor(self):\n",
    "    return self._cor"
   ]
  },
  {
   "cell_type": "code",
   "execution_count": null,
   "metadata": {},
   "outputs": [],
   "source": [
    "def setCor(self, nova_cor = 'cinza'):\n",
    "    if nova_cor:\n",
    "        self._cor = nova_cor\n",
    "    return self._cor\n"
   ]
  }
 ],
 "metadata": {
  "kernelspec": {
   "display_name": ".venv",
   "language": "python",
   "name": "python3"
  },
  "language_info": {
   "codemirror_mode": {
    "name": "ipython",
    "version": 3
   },
   "file_extension": ".py",
   "mimetype": "text/x-python",
   "name": "python",
   "nbconvert_exporter": "python",
   "pygments_lexer": "ipython3",
   "version": "3.9.13"
  },
  "orig_nbformat": 4
 },
 "nbformat": 4,
 "nbformat_minor": 2
}
