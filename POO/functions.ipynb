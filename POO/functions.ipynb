{
 "cells": [
  {
   "attachments": {},
   "cell_type": "markdown",
   "metadata": {},
   "source": [
    "# Funções"
   ]
  },
  {
   "cell_type": "code",
   "execution_count": 12,
   "metadata": {},
   "outputs": [
    {
     "data": {
      "text/plain": [
       "\"def operacaoAritmetica(numero1, numero2, operacao):\\n    if operacao == 'soma':\\n        return numero1 + numero2\\n    elif operacao == 'subtracao':\\n        pass\\n    elif operacao == 'multiplicacao':\\n        return numero1 * numero2\\n    elif operacao =='divisao':\\n        pass\\n\\noperacaoAritmetica(6, 3, 'multiplicacao')\\n\""
      ]
     },
     "execution_count": 12,
     "metadata": {},
     "output_type": "execute_result"
    }
   ],
   "source": [
    "'''def operacaoAritmetica(numero1, numero2, operacao):\n",
    "    if operacao == 'soma':\n",
    "        return numero1 + numero2\n",
    "    elif operacao == 'subtracao':\n",
    "        pass\n",
    "    elif operacao == 'multiplicacao':\n",
    "        return numero1 * numero2\n",
    "    elif operacao =='divisao':\n",
    "        pass\n",
    "\n",
    "operacaoAritmetica(6, 3, 'multiplicacao')\n",
    "'''\n"
   ]
  },
  {
   "attachments": {},
   "cell_type": "markdown",
   "metadata": {},
   "source": [
    "- Argumentos indefinidos (argumentos não nominais)\n",
    "\n",
    " São funções que recebam um número não previamente determinado de argumentos.\n",
    "Esse recurso substitui os números pelo que chamamos de argumentos não nominais, ou seja, não é necessário nomear cada argumento que vamos passar, diferente do que foi feito no exemplo anterior. Esse recurso armazena os argumentos em uma tupla."
   ]
  },
  {
   "cell_type": "code",
   "execution_count": 13,
   "metadata": {},
   "outputs": [
    {
     "data": {
      "text/plain": [
       "(6, 7, 8, 9, 2, 4)"
      ]
     },
     "execution_count": 13,
     "metadata": {},
     "output_type": "execute_result"
    }
   ],
   "source": [
    "def operacaoAritmetica(*numeros):\n",
    "    return numeros\n",
    "\n",
    "\n",
    "operacaoAritmetica(6, 7, 8, 9, 2, 4)"
   ]
  },
  {
   "attachments": {},
   "cell_type": "markdown",
   "metadata": {},
   "source": [
    "- Temos também um recurso semelhante para receber argumentos nominais. Nós chamamos isso de \"kwargs\". Nesse caso, Python armazena os argumentos em um dicionário. \n",
    "- Os argumentos não nominais, eles retornam dentro de uma tupla. Já os argumentos nominais, retornam dentro de um dicionário."
   ]
  },
  {
   "cell_type": "code",
   "execution_count": 15,
   "metadata": {},
   "outputs": [
    {
     "data": {
      "text/plain": [
       "((6, 7, 8, 9, 2, 4), {'operacao': 'soma', 'pet': 'gata'})"
      ]
     },
     "execution_count": 15,
     "metadata": {},
     "output_type": "execute_result"
    }
   ],
   "source": [
    "def operacaoAritmetica(*numeros, **kwargs):\n",
    "    return numeros, kwargs\n",
    "\n",
    "operacaoAritmetica(6, 7, 8, 9, 2, 4, operacao='soma', pet='gata')\n",
    "\n"
   ]
  },
  {
   "cell_type": "code",
   "execution_count": 18,
   "metadata": {},
   "outputs": [],
   "source": [
    "import math\n",
    "\n",
    "def operacaoAritmetica(*args, **kwargs):\n",
    "    for argumento, valor in kwargs.items():\n",
    "        if argumento == 'operacao' and  valor == 'soma':\n",
    "            return sum(args)\n",
    "        if argumento == 'operacao' and  valor == 'subtracao':\n",
    "            pass\n",
    "        if argumento == 'operacao' and  valor == 'multiplicacao':\n",
    "            return math.prod(args)\n",
    "        if argumento == 'operacao' and  valor == 'divisao':\n",
    "            pass\n",
    "                    "
   ]
  },
  {
   "cell_type": "code",
   "execution_count": 19,
   "metadata": {},
   "outputs": [
    {
     "data": {
      "text/plain": [
       "129600"
      ]
     },
     "execution_count": 19,
     "metadata": {},
     "output_type": "execute_result"
    }
   ],
   "source": [
    "operacaoAritmetica(6,8,9,10,30, operacao='multiplicacao')"
   ]
  },
  {
   "attachments": {},
   "cell_type": "markdown",
   "metadata": {},
   "source": [
    "# Função Lambda\n",
    "\n",
    "- Ela é uma função escrita em uma linha, mas muito útil para quando você precisar escrever uma função pequena. Para construir a função, passamos a palavra reservada lambda."
   ]
  },
  {
   "cell_type": "code",
   "execution_count": 24,
   "metadata": {},
   "outputs": [],
   "source": [
    "#Função de soma de 2 números\n",
    "soma = lambda x, y: print(x + y)"
   ]
  },
  {
   "cell_type": "code",
   "execution_count": 25,
   "metadata": {},
   "outputs": [
    {
     "name": "stdout",
     "output_type": "stream",
     "text": [
      "11\n"
     ]
    }
   ],
   "source": [
    "soma(3, 8)"
   ]
  }
 ],
 "metadata": {
  "kernelspec": {
   "display_name": ".venv",
   "language": "python",
   "name": "python3"
  },
  "language_info": {
   "codemirror_mode": {
    "name": "ipython",
    "version": 3
   },
   "file_extension": ".py",
   "mimetype": "text/x-python",
   "name": "python",
   "nbconvert_exporter": "python",
   "pygments_lexer": "ipython3",
   "version": "3.9.13"
  },
  "orig_nbformat": 4
 },
 "nbformat": 4,
 "nbformat_minor": 2
}
