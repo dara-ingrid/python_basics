{
 "cells": [
  {
   "attachments": {},
   "cell_type": "markdown",
   "metadata": {},
   "source": [
    "# Abrindo, lendo e escrevendo arquivos"
   ]
  },
  {
   "attachments": {},
   "cell_type": "markdown",
   "metadata": {},
   "source": [
    "- Para abrir um arquivo, você vai usar a função \"open\". Essa função recebe dois argumentos: o caminho para o arquivo e o modo que o arquivo deve ser aberto. "
   ]
  },
  {
   "cell_type": "code",
   "execution_count": 17,
   "metadata": {},
   "outputs": [],
   "source": [
    "conto = open('./dados/a_luta_carmen_dolores_trecho.txt', mode='r')\n",
    "\n",
    "conto.close()"
   ]
  },
  {
   "attachments": {},
   "cell_type": "markdown",
   "metadata": {},
   "source": [
    "-  Uma solução mais comum é usar a palavra reservada \"with\". With open... E vou usar a variável temporária \"arquivo\", que vai representar o arquivo que está aberto. Assim, Python vai manter o arquivo aberto apenas durante a execução do bloco de código informado. Após a execução, o arquivo é fechado. \n",
    "\n",
    "- Vou usar o método \"read lines\" para ler as linhas do arquivo e vou imprimi-las na tela. Esse caráctere especial, \"/n\", significa uma quebra de linha. Podemos imprimir linha a linha desse arquivo."
   ]
  },
  {
   "cell_type": "code",
   "execution_count": 18,
   "metadata": {},
   "outputs": [
    {
     "name": "stdout",
     "output_type": "stream",
     "text": [
      "['TÃ\\xadtulo: A Luta\\n', 'Autora: Carmen Dolores\\n', 'Ano: 1909\\n', '\\n', 'Dentro, a sala de jantar resplandecia Ã\\xa0 larga claridade de trÃªs janelas e uma porta\\n', 'abrindo para o jardim, que circulava a casa e onde zumbiam abelhas sobre os cÃ¡lices de\\n', 'lÃ\\xadrios, banhados de sol; e a cidade aparecia num plano inferior de silÃªncio e de distÃ¢ncia,\\n', 'atravÃ©s de um vapor trÃªmulo e azulado que varava aqui ou ali o reflexo de incÃªndio de alguma clarabÃ³ia ferida \\n', 'por um raio de luz mais direto.\\n', '\\n', 'A mesa, recoberta pela toalha de linho dos grandes dias, tinha o aspecto convidativo,\\n', 'com os seus pratos de sandwiches, pastÃ©is e empadinhas flanqueados pelas garrafas de cristal, \\n', 'em que brilhava um vinho aparentemente fino;\\n', \"pirÃ¢mides de fios d'ovos e compoteiras de doces feitos em casa alternavam com as fruteiras em que enrubesciam maÃ§Ã£s junto aos\\n\", 'cachos de uvas, decorativamente espalhados - e toda uma profusÃ£o de flores em altos ramos circunscrevia a vista.\\n', '\\n', '[trecho da obra original]\\n', '\\n', 'Ãšltima linha.\\n', '\\n', '[trecho da obra original]\\n', '\\n', 'Última linha']\n"
     ]
    }
   ],
   "source": [
    "with open('./dados/a_luta_carmen_dolores_trecho.txt', mode='r') as arquivo:\n",
    "    linhas = arquivo.readlines()\n",
    "    print(linhas)"
   ]
  },
  {
   "attachments": {},
   "cell_type": "markdown",
   "metadata": {},
   "source": [
    "- o. Para isso, vamos usar o FOR loop, que passará em cada item da linha e imprimirá na tela. For linha em linhas print linha... Vou aproveitar para usar o método \"strip\" para retirar essa quebra de linha. E aqui está o texto."
   ]
  },
  {
   "cell_type": "code",
   "execution_count": 19,
   "metadata": {},
   "outputs": [
    {
     "name": "stdout",
     "output_type": "stream",
     "text": [
      "['TÃ\\xadtulo: A Luta\\n', 'Autora: Carmen Dolores\\n', 'Ano: 1909\\n', '\\n', 'Dentro, a sala de jantar resplandecia Ã\\xa0 larga claridade de trÃªs janelas e uma porta\\n', 'abrindo para o jardim, que circulava a casa e onde zumbiam abelhas sobre os cÃ¡lices de\\n', 'lÃ\\xadrios, banhados de sol; e a cidade aparecia num plano inferior de silÃªncio e de distÃ¢ncia,\\n', 'atravÃ©s de um vapor trÃªmulo e azulado que varava aqui ou ali o reflexo de incÃªndio de alguma clarabÃ³ia ferida \\n', 'por um raio de luz mais direto.\\n', '\\n', 'A mesa, recoberta pela toalha de linho dos grandes dias, tinha o aspecto convidativo,\\n', 'com os seus pratos de sandwiches, pastÃ©is e empadinhas flanqueados pelas garrafas de cristal, \\n', 'em que brilhava um vinho aparentemente fino;\\n', \"pirÃ¢mides de fios d'ovos e compoteiras de doces feitos em casa alternavam com as fruteiras em que enrubesciam maÃ§Ã£s junto aos\\n\", 'cachos de uvas, decorativamente espalhados - e toda uma profusÃ£o de flores em altos ramos circunscrevia a vista.\\n', '\\n', '[trecho da obra original]\\n', '\\n', 'Ãšltima linha.\\n', '\\n', '[trecho da obra original]\\n', '\\n', 'Última linha']\n",
      "TÃ­tulo: A Luta\n",
      "Autora: Carmen Dolores\n",
      "Ano: 1909\n",
      "\n",
      "Dentro, a sala de jantar resplandecia Ã  larga claridade de trÃªs janelas e uma porta\n",
      "abrindo para o jardim, que circulava a casa e onde zumbiam abelhas sobre os cÃ¡lices de\n",
      "lÃ­rios, banhados de sol; e a cidade aparecia num plano inferior de silÃªncio e de distÃ¢ncia,\n",
      "atravÃ©s de um vapor trÃªmulo e azulado que varava aqui ou ali o reflexo de incÃªndio de alguma clarabÃ³ia ferida\n",
      "por um raio de luz mais direto.\n",
      "\n",
      "A mesa, recoberta pela toalha de linho dos grandes dias, tinha o aspecto convidativo,\n",
      "com os seus pratos de sandwiches, pastÃ©is e empadinhas flanqueados pelas garrafas de cristal,\n",
      "em que brilhava um vinho aparentemente fino;\n",
      "pirÃ¢mides de fios d'ovos e compoteiras de doces feitos em casa alternavam com as fruteiras em que enrubesciam maÃ§Ã£s junto aos\n",
      "cachos de uvas, decorativamente espalhados - e toda uma profusÃ£o de flores em altos ramos circunscrevia a vista.\n",
      "\n",
      "[trecho da obra original]\n",
      "\n",
      "Ãšltima linha.\n",
      "\n",
      "[trecho da obra original]\n",
      "\n",
      "Última linha\n"
     ]
    }
   ],
   "source": [
    "with open('./dados/a_luta_carmen_dolores_trecho.txt', mode='r') as arquivo:\n",
    "    linhas = arquivo.readlines()\n",
    "    print(linhas)\n",
    "    for linha in linhas:\n",
    "        print(linha.strip())"
   ]
  },
  {
   "attachments": {},
   "cell_type": "markdown",
   "metadata": {},
   "source": [
    "- O modo read não permite que a gente escreva dentro do arquivo, no entanto, quero adicionar no texto mais uma informação. \n",
    "- Para isso vou alterar o modo de abertura do arquivo para o modo \"a\", que é de \"append\", e dentro desse bloco de código eu vou dizer que o \"arquivo.write\", que é o método de escrita, e adicionar uma linha. \n",
    "- Vou usar duas quebras de linha e adicionar a frase \"última linha\""
   ]
  },
  {
   "cell_type": "code",
   "execution_count": 25,
   "metadata": {},
   "outputs": [],
   "source": [
    "with open('./dados/a_luta_carmen_dolores_trecho.txt', mode='a') as arquivo:\n",
    "    arquivo.write('\\n\\nÚltima linha')"
   ]
  },
  {
   "attachments": {},
   "cell_type": "markdown",
   "metadata": {},
   "source": [
    "- Também é possível criar um arquivo caso ele não exista. Para isso, você deve usar o modo write, que é representado pela letra \"w\""
   ]
  },
  {
   "cell_type": "code",
   "execution_count": 21,
   "metadata": {},
   "outputs": [],
   "source": [
    "#with open('./dados/copia_a_luta_carmen_dolores_trecho.txt', mode='w') as arquivo:"
   ]
  },
  {
   "attachments": {},
   "cell_type": "markdown",
   "metadata": {},
   "source": [
    "-  Existem formas mais eficientes de copiar o conteúdo de um arquivo, no entanto, vou usar métodos de leitura e escrita apenas como exemplo. \n",
    "- Para copiar o conteúdo em um novo arquivo, primeiro eu vou abrir o arquivo que eu quero ler. "
   ]
  },
  {
   "cell_type": "code",
   "execution_count": null,
   "metadata": {},
   "outputs": [],
   "source": [
    "conto = open('./dados/_a_luta_carmen_dolores_trecho.txt', mode='r')\n",
    "\n",
    "with open('./dados/copy_a_luta_carmen_dolores_trecho.txt', mode='w') as arquivo:\n",
    "    linhas_conto = conto.readlines()\n",
    "    arquivo.writelines(linhas_conto)\n",
    "\n",
    "conto.close()"
   ]
  }
 ],
 "metadata": {
  "kernelspec": {
   "display_name": ".venv",
   "language": "python",
   "name": "python3"
  },
  "language_info": {
   "codemirror_mode": {
    "name": "ipython",
    "version": 3
   },
   "file_extension": ".py",
   "mimetype": "text/x-python",
   "name": "python",
   "nbconvert_exporter": "python",
   "pygments_lexer": "ipython3",
   "version": "3.9.13"
  },
  "orig_nbformat": 4
 },
 "nbformat": 4,
 "nbformat_minor": 2
}
