{
 "cells": [
  {
   "attachments": {},
   "cell_type": "markdown",
   "metadata": {},
   "source": [
    "# Lendo e criando csv"
   ]
  },
  {
   "cell_type": "code",
   "execution_count": 4,
   "metadata": {},
   "outputs": [],
   "source": [
    "import csv"
   ]
  },
  {
   "cell_type": "code",
   "execution_count": 9,
   "metadata": {},
   "outputs": [
    {
     "name": "stdout",
     "output_type": "stream",
     "text": [
      "['continente', 'pais', 'ano', 'populaÃ§Ã£o', '%_crescimento_populacional', 'crescimento_populacional', 'migrantes', 'idade_media', '%_fertilidade', '%_populacao_urbana', 'populacao_urbana', '%_populacao_mundial', 'classificacao']\n",
      "['Asia', 'Afghanistan', '1955', '8270991', '1.3', '103775', '-4000', '19.2', '7.45', '7.1', '587818', '0.3', '48']\n",
      "['Asia', 'Afghanistan', '1960', '8996973', '1.7', '145196', '-4000', '18.8', '7.45', '8.4', '755797', '0.3', '48']\n",
      "['Asia', 'Afghanistan', '1965', '9956320', '2.05', '191869', '-4000', '18.4', '7.45', '9.9', '984350', '0.3', '48']\n",
      "['Asia', 'Afghanistan', '1970', '11173642', '2.33', '243464', '-4000', '17.9', '7.45', '11.6', '1295433', '0.3', '48']\n"
     ]
    }
   ],
   "source": [
    "with open('./dados/populacao_mundial.csv', 'r') as arquivo_csv:\n",
    "    dados = list(csv.reader(arquivo_csv, delimiter='\\t'))\n",
    "    for linha in dados[:5]:\n",
    "        print(linha)"
   ]
  },
  {
   "attachments": {},
   "cell_type": "markdown",
   "metadata": {},
   "source": [
    "Vou criar quatro listas usando parte dos nossos dados"
   ]
  },
  {
   "cell_type": "code",
   "execution_count": 10,
   "metadata": {},
   "outputs": [],
   "source": [
    "cabecalho = ['pais', 'ano', '%_crescimento_populacional']\n",
    "\n",
    "populacao_pais = ['Chile', 'Chile', 'Chile', 'Chile', 'Chile']\n",
    "populacao_ano = ['1955', '1960', '1965', '1970', '1975']\n",
    "populacao_crescimento_populacional = ['1.3', '1.7', '2.05', '2.33', '2.58']"
   ]
  },
  {
   "attachments": {},
   "cell_type": "markdown",
   "metadata": {},
   "source": [
    " Usando a função ZIP, conseguimos construir um iterador a partir de dois ou mais objetos iteráveis, que passamos como argumento para a função."
   ]
  },
  {
   "cell_type": "code",
   "execution_count": 11,
   "metadata": {},
   "outputs": [
    {
     "name": "stdout",
     "output_type": "stream",
     "text": [
      "('Chile', '1955', '1.3')\n",
      "('Chile', '1960', '1.7')\n",
      "('Chile', '1965', '2.05')\n",
      "('Chile', '1970', '2.33')\n",
      "('Chile', '1975', '2.58')\n"
     ]
    }
   ],
   "source": [
    "for linha in zip(populacao_pais, populacao_ano, populacao_crescimento_populacional):\n",
    "    print(linha)"
   ]
  },
  {
   "attachments": {},
   "cell_type": "markdown",
   "metadata": {},
   "source": [
    "Nesse nosso exemplo acima, quer dizer que o ZIP percorre as listas: população, país, população ano e população crescimento populacional, e a cada item são criadas tuplas, reunindo o elemento de cada lista que possui o índice em questão. \n",
    "Isso é necessário para reunir em tuplas os dados de uma mesma linha."
   ]
  },
  {
   "attachments": {},
   "cell_type": "markdown",
   "metadata": {},
   "source": [
    " Vou incrementar um pouco mais nosso código para armazenar todas as tuplas em uma lista"
   ]
  },
  {
   "cell_type": "code",
   "execution_count": 13,
   "metadata": {},
   "outputs": [
    {
     "name": "stdout",
     "output_type": "stream",
     "text": [
      "[('Chile', '1955', '1.3'), ('Chile', '1960', '1.7'), ('Chile', '1965', '2.05'), ('Chile', '1970', '2.33'), ('Chile', '1975', '2.58')]\n"
     ]
    }
   ],
   "source": [
    "lista = []\n",
    "\n",
    "for linha in zip(populacao_pais, populacao_ano, populacao_crescimento_populacional):\n",
    "    lista.append(linha)\n",
    "\n",
    "print(lista)"
   ]
  },
  {
   "cell_type": "code",
   "execution_count": 15,
   "metadata": {},
   "outputs": [],
   "source": [
    "with open('./dados/amostra.csv', 'w') as amostra:\n",
    "    escrita = csv.writer(amostra)\n",
    "    escrita.writerow(cabecalho)\n",
    "    escrita.writerows(lista)"
   ]
  },
  {
   "attachments": {},
   "cell_type": "markdown",
   "metadata": {},
   "source": [
    "Verifique se o arquivo foi criado"
   ]
  }
 ],
 "metadata": {
  "kernelspec": {
   "display_name": ".venv",
   "language": "python",
   "name": "python3"
  },
  "language_info": {
   "codemirror_mode": {
    "name": "ipython",
    "version": 3
   },
   "file_extension": ".py",
   "mimetype": "text/x-python",
   "name": "python",
   "nbconvert_exporter": "python",
   "pygments_lexer": "ipython3",
   "version": "3.9.13"
  },
  "orig_nbformat": 4
 },
 "nbformat": 4,
 "nbformat_minor": 2
}
