{
 "cells": [
  {
   "attachments": {},
   "cell_type": "markdown",
   "metadata": {},
   "source": [
    "# Criando exceções"
   ]
  },
  {
   "attachments": {},
   "cell_type": "markdown",
   "metadata": {},
   "source": [
    "Podemos customizar exceções nos nossos projetos. Isso é útil para documentar os problemas que podem acontecer, o que os causou e quais são as soluções. \n",
    "\n",
    "Imaginemos que estamos desenvolvendo um servidor web e precisamos gerar exceções HTTP em alguns pontos do nosso código. "
   ]
  },
  {
   "cell_type": "code",
   "execution_count": 20,
   "metadata": {},
   "outputs": [],
   "source": [
    "class HttpException(Exception):\n",
    "    codigo_status = None\n",
    "    mensagem = None\n",
    "\n",
    "    def __init__(self,):\n",
    "        super().__init__(f'Código do status: {self.codigo_status}. Mensagem: {self.mensagem}')\n",
    "\n",
    "\n",
    "# A partir dessa classe, HTTP exception, vou criar mais duas outras: uma para tratar o erro de autorização de acesso\n",
    "\n",
    "class Unauthorized(HttpException):\n",
    "    codigo_status = 401\n",
    "    mensagem = 'Acesso não autorizado'\n",
    "\n",
    "#  A outra classe que vou fazer é para tratar o erro de resposta dos servidores do back-end. \n",
    "class BadGateway(HttpException):\n",
    "    codigo_status = 502\n",
    "    mensagem = 'Esse servidor é um gateway ou um servidor proxy, que não está recebendo resposta válida dos servidores de back-end.'\n"
   ]
  },
  {
   "attachments": {},
   "cell_type": "markdown",
   "metadata": {},
   "source": [
    "- Testando o código para retornar uma dessas exceções"
   ]
  },
  {
   "cell_type": "code",
   "execution_count": 21,
   "metadata": {},
   "outputs": [],
   "source": [
    "def raiseUnauthorizedError():\n",
    "    raise Unauthorized()"
   ]
  },
  {
   "attachments": {},
   "cell_type": "markdown",
   "metadata": {},
   "source": [
    "- Você deve ter percebido que nessa função estou usando a palavra reservada \"raise\" no lugar de \"return\". Isso acontece porque \"raise\" é a palavra que usamos para explicitar que o código está levantando uma exceção, "
   ]
  },
  {
   "cell_type": "code",
   "execution_count": 22,
   "metadata": {},
   "outputs": [
    {
     "ename": "Unauthorized",
     "evalue": "Código do status: 401. Mensagem: Acesso não autorizado",
     "output_type": "error",
     "traceback": [
      "\u001b[1;31m---------------------------------------------------------------------------\u001b[0m",
      "\u001b[1;31mUnauthorized\u001b[0m                              Traceback (most recent call last)",
      "Cell \u001b[1;32mIn[22], line 1\u001b[0m\n\u001b[1;32m----> 1\u001b[0m raiseUnauthorizedError()\n",
      "Cell \u001b[1;32mIn[21], line 2\u001b[0m, in \u001b[0;36mraiseUnauthorizedError\u001b[1;34m()\u001b[0m\n\u001b[0;32m      1\u001b[0m \u001b[39mdef\u001b[39;00m \u001b[39mraiseUnauthorizedError\u001b[39m():\n\u001b[1;32m----> 2\u001b[0m     \u001b[39mraise\u001b[39;00m Unauthorized()\n",
      "\u001b[1;31mUnauthorized\u001b[0m: Código do status: 401. Mensagem: Acesso não autorizado"
     ]
    }
   ],
   "source": [
    "raiseUnauthorizedError()"
   ]
  }
 ],
 "metadata": {
  "kernelspec": {
   "display_name": ".venv",
   "language": "python",
   "name": "python3"
  },
  "language_info": {
   "codemirror_mode": {
    "name": "ipython",
    "version": 3
   },
   "file_extension": ".py",
   "mimetype": "text/x-python",
   "name": "python",
   "nbconvert_exporter": "python",
   "pygments_lexer": "ipython3",
   "version": "3.9.13"
  },
  "orig_nbformat": 4
 },
 "nbformat": 4,
 "nbformat_minor": 2
}
