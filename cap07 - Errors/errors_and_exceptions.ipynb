{
 "cells": [
  {
   "attachments": {},
   "cell_type": "markdown",
   "metadata": {},
   "source": [
    "# Erros e exceções"
   ]
  },
  {
   "attachments": {},
   "cell_type": "markdown",
   "metadata": {},
   "source": [
    "-  Os erros de sintaxe costumam ser apresentados quando erramos alguma pontuação, por exemplo. Ou seja, são erros que ferem a própria sintaxe da linguagem\n",
    "\n",
    "-  Já as exceções, ocorrem quando há algum erro na execução do código, ainda que a sintaxe esteja correta.\n",
    "\n",
    "-  O que é importante saber é que Python costuma apresentar informações relevantes sobre o erro que está ocorrendo. Recomendo sempre ler com atenção a mensagem apresentada."
   ]
  },
  {
   "cell_type": "code",
   "execution_count": null,
   "metadata": {},
   "outputs": [],
   "source": []
  }
 ],
 "metadata": {
  "language_info": {
   "name": "python"
  },
  "orig_nbformat": 4
 },
 "nbformat": 4,
 "nbformat_minor": 2
}
