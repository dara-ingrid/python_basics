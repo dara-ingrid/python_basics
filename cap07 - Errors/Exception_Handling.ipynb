{
 "cells": [
  {
   "attachments": {},
   "cell_type": "markdown",
   "metadata": {},
   "source": [
    "# Tratamento de exceções"
   ]
  },
  {
   "cell_type": "code",
   "execution_count": null,
   "metadata": {},
   "outputs": [],
   "source": [
    "'''\n",
    "try:\n",
    "except:\n",
    "finally:\n",
    "    pass\n",
    "    '''"
   ]
  },
  {
   "attachments": {},
   "cell_type": "markdown",
   "metadata": {},
   "source": [
    "- \"Try\" é onde inserimos o código a ser executado e, caso haja alguma exceção, o bloco \"except\" informará como ela deve ser tratada. \n",
    "- É possível definir um tratamento genérico para qualquer erro usando a classe Exception."
   ]
  },
  {
   "cell_type": "code",
   "execution_count": 11,
   "metadata": {},
   "outputs": [
    {
     "name": "stdout",
     "output_type": "stream",
     "text": [
      "8.137766905770011\n",
      "Fim!\n"
     ]
    }
   ],
   "source": [
    "from random import random, randrange\n",
    "\n",
    "try:\n",
    "    x = random() / 0.1\n",
    "    print(x)\n",
    "\n",
    "except ZeroDivisionError:\n",
    "    print('Nenhum número é divisível por zero')\n",
    "    y = randrange(10)\n",
    "    print(f'Numero desejado: {x}')\n",
    "    print(f'Vamos dividir o número desejado por {y}')\n",
    "    x = random()/ y\n",
    "    print(f'Aqui está o resultado: {x}')\n",
    "\n",
    "except TypeError:\n",
    "    print('Existe um erro de tipo. Talvez você esteja tentando aplicar um método não suportado por tipos dados numéricos')\n",
    "\n",
    "except Exception:\n",
    "    print('Mensagem automática de erro genérico.')   \n",
    "\n",
    "finally:\n",
    "    print('Fim!')"
   ]
  }
 ],
 "metadata": {
  "kernelspec": {
   "display_name": ".venv",
   "language": "python",
   "name": "python3"
  },
  "language_info": {
   "name": "python",
   "version": "3.9.13"
  },
  "orig_nbformat": 4
 },
 "nbformat": 4,
 "nbformat_minor": 2
}
