{
 "cells": [
  {
   "attachments": {},
   "cell_type": "markdown",
   "metadata": {},
   "source": [
    "# List comprehension"
   ]
  },
  {
   "attachments": {},
   "cell_type": "markdown",
   "metadata": {},
   "source": [
    "- Uma forma elegante de criar listas a partir de uma lista existente"
   ]
  },
  {
   "cell_type": "code",
   "execution_count": 6,
   "metadata": {},
   "outputs": [
    {
     "name": "stdout",
     "output_type": "stream",
     "text": [
      "[4, 8, 12, 14]\n"
     ]
    }
   ],
   "source": [
    "lista = [2, 4, 6, 7]\n",
    "\n",
    "lista_duplicada = [2 * item for item in lista]\n",
    "\n",
    "print(lista_duplicada)"
   ]
  },
  {
   "cell_type": "code",
   "execution_count": 10,
   "metadata": {},
   "outputs": [
    {
     "name": "stdout",
     "output_type": "stream",
     "text": [
      "[0, 20, 40, 60, 80]\n"
     ]
    }
   ],
   "source": [
    "lista_100 = list(range(100))\n",
    "\n",
    "\n",
    "divisiveis_por_20 = [item for item in lista_100 if item % 20 == 0]\n",
    "\n",
    "print(divisiveis_por_20)"
   ]
  },
  {
   "attachments": {},
   "cell_type": "markdown",
   "metadata": {},
   "source": [
    "### Split"
   ]
  },
  {
   "cell_type": "code",
   "execution_count": 12,
   "metadata": {},
   "outputs": [
    {
     "data": {
      "text/plain": [
       "['O',\n",
       " 'arco-íris',\n",
       " 'é',\n",
       " 'colorido,',\n",
       " 'o',\n",
       " 'Céu',\n",
       " 'é',\n",
       " 'azul,',\n",
       " 'a',\n",
       " 'Terra',\n",
       " 'do',\n",
       " 'meu',\n",
       " 'quintal',\n",
       " 'é',\n",
       " 'marrom']"
      ]
     },
     "execution_count": 12,
     "metadata": {},
     "output_type": "execute_result"
    }
   ],
   "source": [
    "texto = 'O arco-íris é colorido, o Céu é azul, a Terra do meu quintal é marrom'\n",
    "\n",
    "# Usará os espaços em branco como separador\n",
    "texto.split() "
   ]
  },
  {
   "cell_type": "code",
   "execution_count": 13,
   "metadata": {},
   "outputs": [
    {
     "data": {
      "text/plain": [
       "['O arco-íris é colorido', ' o Céu é azul', ' a Terra do meu quintal é marrom']"
      ]
     },
     "execution_count": 13,
     "metadata": {},
     "output_type": "execute_result"
    }
   ],
   "source": [
    "texto.split(',')"
   ]
  },
  {
   "cell_type": "code",
   "execution_count": 16,
   "metadata": {},
   "outputs": [
    {
     "name": "stdout",
     "output_type": "stream",
     "text": [
      "['o', 'arco-íris', 'é', 'colorido', 'o', 'céu', 'é', 'azul', 'a', 'terra', 'do', 'meu', 'quintal', 'é', 'marrom']\n"
     ]
    }
   ],
   "source": [
    "# Substituir as virgulas por espaço em branco, e converter todas as letras para minúsculas\n",
    "def limpa_texto(palavra):\n",
    "    return palavra.replace(',', '').lower()\n",
    "\n",
    "\n",
    "palavras_texto = [limpa_texto(palavra) for palavra in texto.split()]\n",
    "\n",
    "print(palavras_texto)"
   ]
  }
 ],
 "metadata": {
  "kernelspec": {
   "display_name": ".venv",
   "language": "python",
   "name": "python3"
  },
  "language_info": {
   "codemirror_mode": {
    "name": "ipython",
    "version": 3
   },
   "file_extension": ".py",
   "mimetype": "text/x-python",
   "name": "python",
   "nbconvert_exporter": "python",
   "pygments_lexer": "ipython3",
   "version": "3.9.13"
  },
  "orig_nbformat": 4
 },
 "nbformat": 4,
 "nbformat_minor": 2
}
