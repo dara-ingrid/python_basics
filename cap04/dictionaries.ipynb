{
 "cells": [
  {
   "attachments": {},
   "cell_type": "markdown",
   "metadata": {},
   "source": [
    "# Dicionários(dictionaries)"
   ]
  },
  {
   "cell_type": "code",
   "execution_count": 1,
   "metadata": {},
   "outputs": [
    {
     "data": {
      "text/plain": [
       "dict_keys(['escreve', 'apaga', 'armazena'])"
      ]
     },
     "execution_count": 1,
     "metadata": {},
     "output_type": "execute_result"
    }
   ],
   "source": [
    "material_escritorio = {\n",
    "    'escreve': 'lapis',\n",
    "    'apaga': 'borracha',\n",
    "    'armazena': 'caderno'\n",
    "}\n",
    "\n",
    "material_escritorio.keys()"
   ]
  },
  {
   "cell_type": "code",
   "execution_count": 2,
   "metadata": {},
   "outputs": [
    {
     "data": {
      "text/plain": [
       "['escreve', 'apaga', 'armazena']"
      ]
     },
     "execution_count": 2,
     "metadata": {},
     "output_type": "execute_result"
    }
   ],
   "source": [
    "# Retornar as chaves do dicionario\n",
    "list(material_escritorio.keys())"
   ]
  },
  {
   "cell_type": "code",
   "execution_count": 3,
   "metadata": {},
   "outputs": [
    {
     "data": {
      "text/plain": [
       "dict_values(['lapis', 'borracha', 'caderno'])"
      ]
     },
     "execution_count": 3,
     "metadata": {},
     "output_type": "execute_result"
    }
   ],
   "source": [
    "#Recuperar todos os valores do dicionario\n",
    "\n",
    "material_escritorio.values()"
   ]
  },
  {
   "cell_type": "code",
   "execution_count": 5,
   "metadata": {},
   "outputs": [
    {
     "data": {
      "text/plain": [
       "'borracha'"
      ]
     },
     "execution_count": 5,
     "metadata": {},
     "output_type": "execute_result"
    }
   ],
   "source": [
    "# Consultar o valor de uma chave específica\n",
    "material_escritorio['apaga']"
   ]
  },
  {
   "cell_type": "code",
   "execution_count": 6,
   "metadata": {},
   "outputs": [
    {
     "data": {
      "text/plain": [
       "'corretivo'"
      ]
     },
     "execution_count": 6,
     "metadata": {},
     "output_type": "execute_result"
    }
   ],
   "source": [
    "# Alterar o valor de uma chave\n",
    "\n",
    "material_escritorio['apaga'] = 'corretivo'\n",
    "material_escritorio['apaga']"
   ]
  },
  {
   "attachments": {},
   "cell_type": "markdown",
   "metadata": {},
   "source": [
    "- Adicionar um novo par de chaves"
   ]
  },
  {
   "cell_type": "code",
   "execution_count": 10,
   "metadata": {},
   "outputs": [
    {
     "data": {
      "text/plain": [
       "{'escreve': 'lapis',\n",
       " 'apaga': 'corretivo',\n",
       " 'armazena': 'caderno',\n",
       " 'prende': 'clipe'}"
      ]
     },
     "execution_count": 10,
     "metadata": {},
     "output_type": "execute_result"
    }
   ],
   "source": [
    "# Adicionar um valor que ainda não existe\n",
    "material_escritorio['prende'] = 'clipe'\n",
    "\n",
    "#imprime\n",
    "material_escritorio"
   ]
  },
  {
   "cell_type": "code",
   "execution_count": 11,
   "metadata": {},
   "outputs": [
    {
     "data": {
      "text/plain": [
       "{'escreve': 'lapis',\n",
       " 'apaga': 'corretivo',\n",
       " 'armazena': 'caderno',\n",
       " 'prende': 'clipe',\n",
       " 'organiza': ['agenda', 'kanban', 'pasta']}"
      ]
     },
     "execution_count": 11,
     "metadata": {},
     "output_type": "execute_result"
    }
   ],
   "source": [
    "# Combinar estruturas de dados diferentes\n",
    "\n",
    "material_escritorio['organiza'] = ['agenda', 'kanban']\n",
    "\n",
    "# Adicionando um novo elemento\n",
    "\n",
    "material_escritorio['organiza'].append('pasta')\n",
    "\n",
    "material_escritorio"
   ]
  },
  {
   "cell_type": "code",
   "execution_count": 12,
   "metadata": {},
   "outputs": [
    {
     "data": {
      "text/plain": [
       "defaultdict(list, {})"
      ]
     },
     "execution_count": 12,
     "metadata": {},
     "output_type": "execute_result"
    }
   ],
   "source": [
    "#Criar dicionarios informando o valor padrão das chaves\n",
    "from collections import defaultdict\n",
    "\n",
    "natureza = defaultdict(list)\n",
    "\n",
    "natureza\n"
   ]
  },
  {
   "cell_type": "code",
   "execution_count": 13,
   "metadata": {},
   "outputs": [
    {
     "data": {
      "text/plain": [
       "defaultdict(list, {'fauna': ['arara', 'capivara', 'jacaré', 'macaco']})"
      ]
     },
     "execution_count": 13,
     "metadata": {},
     "output_type": "execute_result"
    }
   ],
   "source": [
    "#Utilizando o metodo .extend() para adicionar vários elementos de uma vez só\n",
    "\n",
    "natureza['fauna'].extend(['arara', 'capivara', 'jacaré', 'macaco'])\n",
    "\n",
    "natureza"
   ]
  },
  {
   "cell_type": "code",
   "execution_count": 14,
   "metadata": {},
   "outputs": [
    {
     "data": {
      "text/plain": [
       "'jacaré'"
      ]
     },
     "execution_count": 14,
     "metadata": {},
     "output_type": "execute_result"
    }
   ],
   "source": [
    "#acessando o Dicionario Fauna\n",
    "\n",
    "natureza['fauna'][2]"
   ]
  }
 ],
 "metadata": {
  "kernelspec": {
   "display_name": ".venv",
   "language": "python",
   "name": "python3"
  },
  "language_info": {
   "codemirror_mode": {
    "name": "ipython",
    "version": 3
   },
   "file_extension": ".py",
   "mimetype": "text/x-python",
   "name": "python",
   "nbconvert_exporter": "python",
   "pygments_lexer": "ipython3",
   "version": "3.9.13"
  },
  "orig_nbformat": 4
 },
 "nbformat": 4,
 "nbformat_minor": 2
}
