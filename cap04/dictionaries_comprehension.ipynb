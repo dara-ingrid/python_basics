{
 "cells": [
  {
   "attachments": {},
   "cell_type": "markdown",
   "metadata": {},
   "source": [
    "# Dictionaries Comprehension"
   ]
  },
  {
   "cell_type": "code",
   "execution_count": 3,
   "metadata": {},
   "outputs": [
    {
     "data": {
      "text/plain": [
       "{'8-f': 'floresta', '6-r': 'riacho', '9-c': 'cachoeira'}"
      ]
     },
     "execution_count": 3,
     "metadata": {},
     "output_type": "execute_result"
    }
   ],
   "source": [
    "lista = ['floresta', 'riacho', 'cachoeira']\n",
    "\n",
    "#Pega o tamanho da string e a primeira letra\n",
    "dicionario = { f'{len(item)}-{item[0]}' : item for item in lista}\n",
    "\n",
    "dicionario"
   ]
  },
  {
   "cell_type": "code",
   "execution_count": 5,
   "metadata": {},
   "outputs": [
    {
     "data": {
      "text/plain": [
       "'céu'"
      ]
     },
     "execution_count": 5,
     "metadata": {},
     "output_type": "execute_result"
    }
   ],
   "source": [
    "# Descompactando uma Tupla para uma variável temporária\n",
    "\n",
    "x, y = ('céu', 'cinza')\n",
    "\n",
    "x"
   ]
  },
  {
   "cell_type": "code",
   "execution_count": 6,
   "metadata": {},
   "outputs": [
    {
     "name": "stdout",
     "output_type": "stream",
     "text": [
      "céu  ----  cinza\n"
     ]
    }
   ],
   "source": [
    "tupla = [('céu', 'cinza')]\n",
    "\n",
    "for a, b in tupla:\n",
    "    print(f'{a}  ----  {b}')"
   ]
  },
  {
   "cell_type": "code",
   "execution_count": 13,
   "metadata": {},
   "outputs": [
    {
     "data": {
      "text/plain": [
       "{'céu': 'cinza', 'gato': 'laranja', 'mar': 'azul'}"
      ]
     },
     "execution_count": 13,
     "metadata": {},
     "output_type": "execute_result"
    }
   ],
   "source": [
    "#Exemplo com tupla maior\n",
    "\n",
    "lista_tuplas = [('céu', 'cinza'), ('gato', 'laranja'), ('mar', 'azul')]\n",
    "\n",
    "dicionario_tuplas = {chave: valor for (chave, valor) in lista_tuplas}\n",
    "\n",
    "dicionario_tuplas"
   ]
  },
  {
   "cell_type": "code",
   "execution_count": 14,
   "metadata": {},
   "outputs": [
    {
     "name": "stdout",
     "output_type": "stream",
     "text": [
      "{'céu': 'cinzacinza', 'gato': 'laranjalaranja', 'mar': 'azulazul'}\n"
     ]
    }
   ],
   "source": [
    "Dicionario_modificado = { chave: (valor*2) for (chave, valor) in dicionario_tuplas.items()}\n",
    "\n",
    "print(Dicionario_modificado)"
   ]
  },
  {
   "cell_type": "code",
   "execution_count": 17,
   "metadata": {},
   "outputs": [
    {
     "name": "stdout",
     "output_type": "stream",
     "text": [
      "{'céu': 'cinzacinza', 'mar': 'azulazul'}\n"
     ]
    }
   ],
   "source": [
    "# Aplicando filtro\n",
    "\n",
    "Dicionario_filtrado= { chave: (valor*2) for (chave, valor) in dicionario_tuplas.items() if len(chave) <= 3}\n",
    "\n",
    "print(Dicionario_filtrado)"
   ]
  }
 ],
 "metadata": {
  "kernelspec": {
   "display_name": ".venv",
   "language": "python",
   "name": "python3"
  },
  "language_info": {
   "codemirror_mode": {
    "name": "ipython",
    "version": 3
   },
   "file_extension": ".py",
   "mimetype": "text/x-python",
   "name": "python",
   "nbconvert_exporter": "python",
   "pygments_lexer": "ipython3",
   "version": "3.9.13"
  },
  "orig_nbformat": 4
 },
 "nbformat": 4,
 "nbformat_minor": 2
}
