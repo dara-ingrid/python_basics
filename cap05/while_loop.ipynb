{
 "cells": [
  {
   "attachments": {},
   "cell_type": "markdown",
   "metadata": {},
   "source": [
    "# For"
   ]
  },
  {
   "cell_type": "code",
   "execution_count": 6,
   "metadata": {},
   "outputs": [
    {
     "name": "stdout",
     "output_type": "stream",
     "text": [
      "Você passou do estágio 0\n",
      "Você passou do estágio 1\n",
      "Você passou do estágio 2\n",
      "Você passou do estágio 3\n",
      "Você passou do estágio 4\n",
      "Você passou do estágio 5\n",
      "Fim de jogo\n"
     ]
    }
   ],
   "source": [
    "estagio_atual = 0\n",
    "estagio_final = 5\n",
    "\n",
    "while estagio_atual <= estagio_final:\n",
    "    print('Você passou do estágio', estagio_atual)\n",
    "    estagio_atual += 1\n",
    "else:\n",
    "    print( 'Fim de jogo')"
   ]
  },
  {
   "attachments": {},
   "cell_type": "markdown",
   "metadata": {},
   "source": [
    "Utilizando os comandos pass, break e continue"
   ]
  },
  {
   "cell_type": "code",
   "execution_count": 9,
   "metadata": {},
   "outputs": [
    {
     "name": "stdout",
     "output_type": "stream",
     "text": [
      "Você está no estágio mais fácil dentre todos\n",
      "Você passou do estágio 5\n",
      "Você passou do estágio 5\n"
     ]
    }
   ],
   "source": [
    "estagio_atual = 0\n",
    "estagio_final = 5\n",
    "\n",
    "while estagio_atual <= estagio_final:\n",
    "    estagio_atual += 1\n",
    "    if estagio_atual == 1:\n",
    "        continue\n",
    "    elif estagio_atual == 2:\n",
    "        print('Você está no estágio mais fácil dentre todos')\n",
    "    elif estagio_atual == 3:\n",
    "        pass\n",
    "    elif estagio_atual == 4:\n",
    "        break\n",
    "    print('Você passou do estágio', estagio_final)\n",
    "else:\n",
    "    print('Fim de jogo')"
   ]
  }
 ],
 "metadata": {
  "kernelspec": {
   "display_name": ".venv",
   "language": "python",
   "name": "python3"
  },
  "language_info": {
   "codemirror_mode": {
    "name": "ipython",
    "version": 3
   },
   "file_extension": ".py",
   "mimetype": "text/x-python",
   "name": "python",
   "nbconvert_exporter": "python",
   "pygments_lexer": "ipython3",
   "version": "3.9.13"
  },
  "orig_nbformat": 4
 },
 "nbformat": 4,
 "nbformat_minor": 2
}
