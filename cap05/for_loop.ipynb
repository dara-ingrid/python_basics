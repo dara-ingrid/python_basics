{
 "cells": [
  {
   "attachments": {},
   "cell_type": "markdown",
   "metadata": {},
   "source": [
    "# For loop"
   ]
  },
  {
   "attachments": {},
   "cell_type": "markdown",
   "metadata": {},
   "source": [
    "for_loop é uma estrutura de controle do tipo \"iteração\", que usamos para executar um bloco de código repetidas vezes. A quantidade de vezes que esse bloco será executado é determinado pelo objeto iterável que usaremos como base."
   ]
  },
  {
   "cell_type": "code",
   "execution_count": 3,
   "metadata": {},
   "outputs": [],
   "source": [
    "lista = [3, 9, 35, 34]"
   ]
  },
  {
   "cell_type": "code",
   "execution_count": 4,
   "metadata": {},
   "outputs": [
    {
     "name": "stdout",
     "output_type": "stream",
     "text": [
      "3\n",
      "9\n",
      "35\n",
      "34\n"
     ]
    }
   ],
   "source": [
    "for numero in lista:\n",
    "    print(numero)"
   ]
  },
  {
   "attachments": {},
   "cell_type": "markdown",
   "metadata": {},
   "source": [
    " A palavra pass vai nos auxiliar na construção do esboço. Passando ela não é apresentado um erro. No entanto, se criarmos apenas o \"for numero in lista:\" e não passarmos nenhuma informação no bloco de código, Python vai informar que existe um erro de sintaxe. A palavra pass é bem útil para quando estamos construindo nosso raciocínio, mas ainda não temos exatamente a implementação completa do código."
   ]
  },
  {
   "cell_type": "code",
   "execution_count": 5,
   "metadata": {},
   "outputs": [],
   "source": [
    "for numero in lista:\n",
    "    pass"
   ]
  },
  {
   "attachments": {},
   "cell_type": "markdown",
   "metadata": {},
   "source": [
    "## Continue\n",
    "\n",
    " Nesse exemplo, o continue faz com que a execução do loop reinicie, ou seja, quando o número é divisível por três, nada abaixo do continue é executado e o loop volta para o início"
   ]
  },
  {
   "cell_type": "code",
   "execution_count": 7,
   "metadata": {},
   "outputs": [
    {
     "name": "stdout",
     "output_type": "stream",
     "text": [
      "Estamos no else\n",
      "35\n",
      "O número 34 é par\n",
      "34\n"
     ]
    }
   ],
   "source": [
    "for numero in lista:\n",
    "    if numero % 3 == 0:\n",
    "        continue\n",
    "    elif numero % 2 == 0:\n",
    "        print(f'O número {numero} é par')\n",
    "    else:\n",
    "        print('Estamos no else')\n",
    "    print(numero)"
   ]
  },
  {
   "attachments": {},
   "cell_type": "markdown",
   "metadata": {},
   "source": [
    "## Break\n",
    "\n",
    " O recurso break interrompe abruptamente o loop e faz com que a execução saia completamente da estrutura de controle. Por isso que, ainda que existam outros números na lista divisíveis por três, na primeira vez que a condição é cumprida, todo o resto é ignorado e Python interrompe o loop. "
   ]
  },
  {
   "cell_type": "code",
   "execution_count": 8,
   "metadata": {},
   "outputs": [
    {
     "name": "stdout",
     "output_type": "stream",
     "text": [
      "O número 3 é divisível por 3\n"
     ]
    }
   ],
   "source": [
    "for numero in lista:\n",
    "    if numero % 3 == 0:\n",
    "        print(f'O número {numero} é divisível por 3')\n",
    "        break\n",
    "    elif numero % 2 == 0:\n",
    "        print(f'O número {numero} é par')\n",
    "    else:\n",
    "        print('Estamos no else')\n",
    "    print(numero)"
   ]
  },
  {
   "attachments": {},
   "cell_type": "markdown",
   "metadata": {},
   "source": [
    "## For loop\n",
    "\n",
    "  O else no for é opcional, no entanto, ele serve para executar um trecho de código após a conclusão do loop. Entender e usar pass, continue, break e else te ajudará a manter seus loops limpos e elegantes."
   ]
  },
  {
   "cell_type": "code",
   "execution_count": null,
   "metadata": {},
   "outputs": [],
   "source": []
  }
 ],
 "metadata": {
  "kernelspec": {
   "display_name": ".venv",
   "language": "python",
   "name": "python3"
  },
  "language_info": {
   "codemirror_mode": {
    "name": "ipython",
    "version": 3
   },
   "file_extension": ".py",
   "mimetype": "text/x-python",
   "name": "python",
   "nbconvert_exporter": "python",
   "pygments_lexer": "ipython3",
   "version": "3.9.13"
  },
  "orig_nbformat": 4
 },
 "nbformat": 4,
 "nbformat_minor": 2
}
